{
 "cells": [
  {
   "cell_type": "code",
   "execution_count": null,
   "metadata": {},
   "outputs": [],
   "source": [
    "#!python3 -m pip install -r requirements.txt"
   ]
  },
  {
   "cell_type": "code",
   "execution_count": null,
   "metadata": {},
   "outputs": [],
   "source": [
    "import os\n",
    "path_image_network_plotter = 'Caminho para os arquivos do image-network-plotter-master'\n",
    "os.chdir(path_image_network_plotter)"
   ]
  },
  {
   "cell_type": "code",
   "execution_count": null,
   "metadata": {},
   "outputs": [],
   "source": [
    "# Definição dos caminhos dos arquivos da rede de imagens (Lembrar de alterar a pasta de imagens para as imagens com blur quando necessário)\n",
    "path_gexf = 'Caminho para o arquivo gexf gerado pelo memespector'\n",
    "path_img_folder = 'Caminho para a pasta de imagens gerada pelo memespector'"
   ]
  },
  {
   "cell_type": "code",
   "execution_count": null,
   "metadata": {},
   "outputs": [],
   "source": [
    "# Loop para alterar os dados do arquivo 'config_sample.txt' e gerar o 'config.txt' que vai ser utilizado pelo image network plotter\n",
    "f1 = open(\"config_sample.txt\", \"rt\")\n",
    "f2 = open(\"config.txt\", \"wt\")\n",
    "\n",
    "checkWords = ('InputGraph: /path/to/inputgraph.gexf\\n',\n",
    "              'InputImageFolder: /path/to/imagefolder\\n')\n",
    "\n",
    "repWords = ('InputGraph: ' + path_gexf + '\\n',\n",
    "            'InputImageFolder: ' + path_img_folder + '\\n')\n",
    "\n",
    "for line in f1:\n",
    "    for check, rep in zip(checkWords, repWords):\n",
    "        line = line.replace(check, rep)\n",
    "    f2.write(line)\n",
    "f1.close()\n",
    "f2.close()"
   ]
  },
  {
   "cell_type": "code",
   "execution_count": null,
   "metadata": {},
   "outputs": [],
   "source": [
    "# Checar as alterações do arquivo 'config.txt' para rodar corretamenta a rede de imagens\n",
    "with open('config.txt', 'r') as file:\n",
    "    for line in file:\n",
    "        print(line.rstrip())"
   ]
  },
  {
   "cell_type": "code",
   "execution_count": null,
   "metadata": {},
   "outputs": [],
   "source": [
    "!python3 plotter.py"
   ]
  }
 ],
 "metadata": {
  "kernelspec": {
   "display_name": "Python 3",
   "language": "python",
   "name": "python3"
  },
  "language_info": {
   "codemirror_mode": {
    "name": "ipython",
    "version": 3
   },
   "file_extension": ".py",
   "mimetype": "text/x-python",
   "name": "python",
   "nbconvert_exporter": "python",
   "pygments_lexer": "ipython3",
   "version": "3.7.7"
  }
 },
 "nbformat": 4,
 "nbformat_minor": 4
}
